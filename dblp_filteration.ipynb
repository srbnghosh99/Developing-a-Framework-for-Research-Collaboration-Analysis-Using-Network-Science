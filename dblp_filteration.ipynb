{
 "cells": [
  {
   "cell_type": "code",
   "execution_count": 20,
   "metadata": {},
   "outputs": [],
   "source": [
    "import pandas as pd\n",
    "from tqdm import tqdm\n",
    "import itertools\n",
    "import ast"
   ]
  },
  {
   "cell_type": "code",
   "execution_count": 48,
   "metadata": {},
   "outputs": [
    {
     "name": "stdout",
     "output_type": "stream",
     "text": [
      "/Users/shrabanighosh/UNCC/Spring 2025/plos complex/csvfiles\n"
     ]
    },
    {
     "name": "stderr",
     "output_type": "stream",
     "text": [
      "/Users/shrabanighosh/thematic/lib/python3.9/site-packages/IPython/core/magics/osm.py:417: UserWarning: using dhist requires you to install the `pickleshare` library.\n",
      "  self.shell.db['dhist'] = compress_dhist(dhist)[-100:]\n"
     ]
    }
   ],
   "source": [
    "cd /Users/shrabanighosh/UNCC/Spring 2025/plos complex/csvfiles/"
   ]
  },
  {
   "cell_type": "code",
   "execution_count": 49,
   "metadata": {},
   "outputs": [
    {
     "data": {
      "text/plain": [
       "Index(['Unnamed: 0', 'authors_name', 'title', 'pages', 'year', 'data', 'key',\n",
       "       'ee', 'url', 'booktitle', 'crossref'],\n",
       "      dtype='object')"
      ]
     },
     "execution_count": 49,
     "metadata": {},
     "output_type": "execute_result"
    }
   ],
   "source": [
    "df = pd.read_csv('dblp.csv')\n",
    "df.columns"
   ]
  },
  {
   "cell_type": "code",
   "execution_count": null,
   "metadata": {},
   "outputs": [],
   "source": [
    "swlist = ['ICSE','ASE', 'ESEC/SIGSOFT FSE' ,'COMPSAC' , 'ISSTA' , 'UIST' ]\n",
    "df[df['booktitle'].isin(swlist)]['year'].max(), df[df['booktitle'].isin(swlist)]['year'].min()\n",
    "sw = df[df['booktitle'].isin(swlist)]\n",
    "sw.sort_values(by='year',ascending=False)\n",
    "sw['year'].value_counts()\n",
    "yearrange = list(range(2000, 2026, 1)) #[2000 to 2025]\n",
    "new_df = sw[sw['year'].isin(yearrange)]\n",
    "no_of_papers = new_df['year'].value_counts().reset_index()['count'].sum()\n",
    "new_df.to_csv('dblp_sw_filtered.csv')"
   ]
  },
  {
   "cell_type": "code",
   "execution_count": 46,
   "metadata": {},
   "outputs": [],
   "source": [
    "dmlist = ['CIKM','KDD','SIGIR','WWW','WSDM','IEEE BigData']\n",
    "df[df['booktitle'].isin(dmlist)]['year'].max(), df[df['booktitle'].isin(dmlist)]['year'].min()\n",
    "dm = df[df['booktitle'].isin(dmlist)]\n",
    "dm.sort_values(by='year',ascending=False)\n",
    "dm['year'].value_counts()\n",
    "yearrange = list(range(2000, 2026, 1)) #[2000 to 2025]\n",
    "new_df = dm[dm['year'].isin(yearrange)]\n",
    "no_of_papers = new_df['year'].value_counts().reset_index()['count'].sum()\n",
    "new_df.to_csv('dblp_dm_filtered.csv')"
   ]
  },
  {
   "cell_type": "code",
   "execution_count": 51,
   "metadata": {},
   "outputs": [],
   "source": [
    "hrilist=['HRI','HRI (Companion)','ROBIO' , 'IROS' , 'ICRA']\n",
    "df[df['booktitle'].isin(hrilist)]['year'].max(), df[df['booktitle'].isin(hrilist)]['year'].min()\n",
    "dm = df[df['booktitle'].isin(hrilist)]\n",
    "dm.sort_values(by='year',ascending=False)\n",
    "dm['year'].value_counts()\n",
    "yearrange = list(range(2000, 2026, 1)) #[2000 to 2025]\n",
    "new_df = dm[dm['year'].isin(yearrange)]\n",
    "no_of_papers = new_df['year'].value_counts().reset_index()['count'].sum()\n",
    "new_df.to_csv('dblp_hri_filtered.csv')"
   ]
  },
  {
   "cell_type": "code",
   "execution_count": 52,
   "metadata": {},
   "outputs": [],
   "source": [
    "cvlist = ['CVPR', 'CVPR Workshops' , 'ICCV' , 'ICPR' , 'WACV' ]\n",
    "df[df['booktitle'].isin(cvlist)]['year'].max(), df[df['booktitle'].isin(cvlist)]['year'].min()\n",
    "dm = df[df['booktitle'].isin(cvlist)]\n",
    "dm.sort_values(by='year',ascending=False)\n",
    "dm['year'].value_counts()\n",
    "yearrange = list(range(2000, 2026, 1)) #[2000 to 2025]\n",
    "new_df = dm[dm['year'].isin(yearrange)]\n",
    "no_of_papers = new_df['year'].value_counts().reset_index()['count'].sum()\n",
    "new_df.to_csv('dblp_cv_filtered.csv')"
   ]
  },
  {
   "cell_type": "code",
   "execution_count": 50,
   "metadata": {},
   "outputs": [
    {
     "name": "stdout",
     "output_type": "stream",
     "text": [
      "/Users/shrabanighosh/UNCC/Spring 2025/plos complex/data\n"
     ]
    },
    {
     "name": "stderr",
     "output_type": "stream",
     "text": [
      "/Users/shrabanighosh/thematic/lib/python3.9/site-packages/IPython/core/magics/osm.py:417: UserWarning: using dhist requires you to install the `pickleshare` library.\n",
      "  self.shell.db['dhist'] = compress_dhist(dhist)[-100:]\n"
     ]
    }
   ],
   "source": [
    "cd /Users/shrabanighosh/UNCC/Spring 2025/plos complex/data"
   ]
  },
  {
   "cell_type": "code",
   "execution_count": 31,
   "metadata": {},
   "outputs": [],
   "source": [
    "new_df = pd.read_csv('dblp_sw_filtered.csv')"
   ]
  },
  {
   "cell_type": "code",
   "execution_count": 32,
   "metadata": {},
   "outputs": [],
   "source": [
    "\n",
    "new_df['authors_name'] = new_df['authors_name'].apply(ast.literal_eval)\n",
    "authors_name_list = new_df['authors_name'].tolist()"
   ]
  },
  {
   "cell_type": "code",
   "execution_count": 35,
   "metadata": {},
   "outputs": [
    {
     "data": {
      "text/plain": [
       "(51980, 'Xiaoyin Wang', 'Yingnong Dang')"
      ]
     },
     "execution_count": 35,
     "metadata": {},
     "output_type": "execute_result"
    }
   ],
   "source": [
    "authors_names = list(itertools.chain.from_iterable(authors_name_list))\n",
    "len(authors_names), authors_names[0], authors_names[1]"
   ]
  },
  {
   "cell_type": "code",
   "execution_count": 45,
   "metadata": {},
   "outputs": [
    {
     "data": {
      "text/plain": [
       "24252"
      ]
     },
     "execution_count": 45,
     "metadata": {},
     "output_type": "execute_result"
    }
   ],
   "source": [
    "len(set(authors_names))"
   ]
  },
  {
   "cell_type": "code",
   "execution_count": 42,
   "metadata": {},
   "outputs": [
    {
     "data": {
      "text/plain": [
       "'Bing Xie'"
      ]
     },
     "execution_count": 42,
     "metadata": {},
     "output_type": "execute_result"
    }
   ],
   "source": [
    "authors_names[5000]"
   ]
  }
 ],
 "metadata": {
  "kernelspec": {
   "display_name": "thematic",
   "language": "python",
   "name": "python3"
  },
  "language_info": {
   "codemirror_mode": {
    "name": "ipython",
    "version": 3
   },
   "file_extension": ".py",
   "mimetype": "text/x-python",
   "name": "python",
   "nbconvert_exporter": "python",
   "pygments_lexer": "ipython3",
   "version": "3.9.6"
  }
 },
 "nbformat": 4,
 "nbformat_minor": 2
}
